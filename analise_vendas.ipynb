{
 "cells": [
  {
   "cell_type": "code",
   "execution_count": 4,
   "id": "4134290c-7e74-46f5-be10-79bd56bd2e2d",
   "metadata": {},
   "outputs": [],
   "source": [
    "import pandas as pd\n",
    "import numpy as np\n",
    "\n",
    "# Criando o DataFrame manualmente\n",
    "\n",
    "dados = {\n",
    "    \"Data\":[\"2025-01-01\",\"2025-01-02\",\"2025-01-03\",\"2025-01-04\",\"2025-01-05\"],\n",
    "    \"Produto\":[\"Camiseta\",\"Calça\",\"Camiseta\",\"Jaqueta\",\"Calça\"],\n",
    "    \"Preço\":[50,100,50,200,100],\n",
    "    \"Quantidade\":[10,5,7,2,3]\n",
    "}\n",
    "\n",
    "# Criar os dados\n",
    "df = pd.DataFrame(dados)"
   ]
  },
  {
   "cell_type": "code",
   "execution_count": 5,
   "id": "b67e1615-7672-422d-a2b9-8ba198d1c187",
   "metadata": {},
   "outputs": [
    {
     "name": "stdout",
     "output_type": "stream",
     "text": [
      "         Data   Produto  Preço  Quantidade\n",
      "0  2025-01-01  Camiseta     50          10\n",
      "1  2025-01-02     Calça    100           5\n",
      "2  2025-01-03  Camiseta     50           7\n",
      "3  2025-01-04   Jaqueta    200           2\n",
      "4  2025-01-05     Calça    100           3\n"
     ]
    }
   ],
   "source": [
    "# Salvar o DataFrame em um arquivo CSV\n",
    "df.to_csv(\"vendas.csv\",index=False)\n",
    "\n",
    "# Agora podemos carregar com:\n",
    "df_lido = pd.read_csv(\"vendas.csv\")\n",
    "print(df_lido)"
   ]
  },
  {
   "cell_type": "code",
   "execution_count": 6,
   "id": "59e209d1-4363-4a1f-9596-f53cf7b8c9c9",
   "metadata": {},
   "outputs": [
    {
     "name": "stdout",
     "output_type": "stream",
     "text": [
      "         Data   Produto  Preço  Quantidade\n",
      "0  2025-01-01  Camiseta     50          10\n",
      "1  2025-01-02     Calça    100           5\n",
      "2  2025-01-03  Camiseta     50           7\n",
      "3  2025-01-04   Jaqueta    200           2\n",
      "4  2025-01-05     Calça    100           3\n"
     ]
    }
   ],
   "source": [
    "# Visualizar os primeiros dados\n",
    "print(df.head())"
   ]
  },
  {
   "cell_type": "code",
   "execution_count": 7,
   "id": "e7069b49-a18e-411f-ada5-e0f15d3e1b0a",
   "metadata": {},
   "outputs": [
    {
     "name": "stdout",
     "output_type": "stream",
     "text": [
      "<class 'pandas.core.frame.DataFrame'>\n",
      "RangeIndex: 5 entries, 0 to 4\n",
      "Data columns (total 4 columns):\n",
      " #   Column      Non-Null Count  Dtype \n",
      "---  ------      --------------  ----- \n",
      " 0   Data        5 non-null      object\n",
      " 1   Produto     5 non-null      object\n",
      " 2   Preço       5 non-null      int64 \n",
      " 3   Quantidade  5 non-null      int64 \n",
      "dtypes: int64(2), object(2)\n",
      "memory usage: 292.0+ bytes\n",
      "None\n",
      "            Preço  Quantidade\n",
      "count    5.000000    5.000000\n",
      "mean   100.000000    5.400000\n",
      "std     61.237244    3.209361\n",
      "min     50.000000    2.000000\n",
      "25%     50.000000    3.000000\n",
      "50%    100.000000    5.000000\n",
      "75%    100.000000    7.000000\n",
      "max    200.000000   10.000000\n",
      "Produto\n",
      "Calça       800\n",
      "Camiseta    850\n",
      "Jaqueta     400\n",
      "Name: Total_venda, dtype: int64\n"
     ]
    }
   ],
   "source": [
    "# informacoes basicas\n",
    "print(df.info())\n",
    "print(df.describe())\n",
    "\n",
    "# Total de vendas por produto\n",
    "df[\"Total_venda\"] = df[\"Preço\"] * df[\"Quantidade\"]\n",
    "print(df.groupby(\"Produto\")[\"Total_venda\"].sum())"
   ]
  },
  {
   "cell_type": "code",
   "execution_count": 8,
   "id": "cba80503-e149-4ffa-ab0f-0add5fb0ad72",
   "metadata": {},
   "outputs": [
    {
     "name": "stdout",
     "output_type": "stream",
     "text": [
      "Media de preço: 100.0\n",
      "Desvio padrao da quantidade: 2.870540018881465\n"
     ]
    }
   ],
   "source": [
    "precos = df[\"Preço\"].values\n",
    "quantidades = df[\"Quantidade\"].values\n",
    "\n",
    "print(\"Media de preço:\",np.mean(precos))\n",
    "print(\"Desvio padrao da quantidade:\",np.std(quantidades))"
   ]
  },
  {
   "cell_type": "code",
   "execution_count": 9,
   "id": "2ad6609c-4f1b-4956-8fd9-d68b24fed7cb",
   "metadata": {},
   "outputs": [
    {
     "data": {
      "image/png": "[encoded data removed]",
      "text/plain": [
       "<Figure size 640x480 with 1 Axes>"
      ]
     },
     "metadata": {},
     "output_type": "display_data"
    }
   ],
   "source": [
    "import matplotlib.pyplot as plt\n",
    "# Grafico de vendas por produto\n",
    "df.groupby(\"Produto\")[\"Total_venda\"].sum().plot(kind=\"bar\",title=\"Vendas por produto\")\n",
    "plt.ylabel(\"Total em Kz\")\n",
    "plt.show()"
   ]
  },
  {
   "cell_type": "code",
   "execution_count": 10,
   "id": "2d188d31-cd8c-4e01-8b82-1713213bf865",
   "metadata": {},
   "outputs": [
    {
     "name": "stdout",
     "output_type": "stream",
     "text": [
      "Quantidades normalizadas: [ 1.60248593 -0.1393466   0.55738641 -1.18444612 -0.83607962]\n"
     ]
    }
   ],
   "source": [
    "# Normalizando a coluna  \"Quantidade\"\n",
    "qtd_norm = (quantidades - np.mean(quantidades)) / np.std(quantidades)\n",
    "print(\"Quantidades normalizadas:\",qtd_norm)"
   ]
  },
  {
   "cell_type": "code",
   "execution_count": null,
   "id": "768d019a-8997-4bb1-a846-60dfa3ec9eaa",
   "metadata": {},
   "outputs": [],
   "source": []
  }
 ],
 "metadata": {
  "kernelspec": {
   "display_name": "Python 3 (ipykernel)",
   "language": "python",
   "name": "python3"
  },
  "language_info": {
   "codemirror_mode": {
    "name": "ipython",
    "version": 3
   },
   "file_extension": ".py",
   "mimetype": "text/x-python",
   "name": "python",
   "nbconvert_exporter": "python",
   "pygments_lexer": "ipython3",
   "version": "3.12.7"
  }
 },
 "nbformat": 4,
 "nbformat_minor": 5
}
